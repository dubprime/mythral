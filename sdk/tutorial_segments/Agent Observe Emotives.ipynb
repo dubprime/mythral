{
 "cells": [
  {
   "cell_type": "markdown",
   "id": "1d051250",
   "metadata": {},
   "source": [
    "## An Emotional Machine: Emotives and Mood"
   ]
  },
  {
   "cell_type": "markdown",
   "id": "973d02b0",
   "metadata": {},
   "source": [
    "The emotives field in the GDF is used to give the agent emotional data. It is used for automatic goal-setting, reinforcement learning, and determining the desirability of an outcome. Examples of emotional data would be cost and time. In order for your agent to learn emotional data you have to populate the emotive field in the GDF with the name of the emotive, and then give it a value; emotives accept non-vector numbers, positive or negative.\n",
    "\n",
    "Furthermore, emotives can be used to help solve multivariate problems. Let's start by using one emotive, then later on in the tutorial we will show you how solve problems with multiple emotives."
   ]
  },
  {
   "cell_type": "markdown",
   "id": "e9d13ebc",
   "metadata": {},
   "source": [
    "*If starting from here, lets initialize the agent*"
   ]
  },
  {
   "cell_type": "code",
   "execution_count": 1,
   "id": "3db5e130",
   "metadata": {},
   "outputs": [
    {
     "data": {
      "text/plain": [
       "[{'id': 'p46b6b076c', 'name': 'P1'}]"
      ]
     },
     "execution_count": 1,
     "metadata": {},
     "output_type": "execute_result"
    }
   ],
   "source": [
    "from ia.mythral.agent_client import AgentClient\n",
    "agent_info = {'api_key': 'ABCD-1234',\n",
    "              'name': '',\n",
    "              'domain': 'mythral-api:80',\n",
    "              'secure': False}\n",
    "\n",
    "agent = AgentClient(agent_info)\n",
    "agent.connect()\n",
    "agent\n",
    "\n",
    "# Let's use only one node\n",
    "ingress_nodes = ['P1']\n",
    "query_nodes   = ['P1']\n",
    "\n",
    "agent.set_ingress_nodes(ingress_nodes)\n",
    "agent.set_query_nodes(query_nodes)"
   ]
  },
  {
   "cell_type": "code",
   "execution_count": null,
   "id": "c27fee3c",
   "metadata": {},
   "outputs": [],
   "source": []
  },
  {
   "cell_type": "code",
   "execution_count": 2,
   "id": "d4ab7e59",
   "metadata": {},
   "outputs": [
    {
     "data": {
      "text/plain": [
       "'all-cleared'"
      ]
     },
     "execution_count": 2,
     "metadata": {},
     "output_type": "execute_result"
    }
   ],
   "source": [
    "agent.clear_all_memory(nodes=ingress_nodes)"
   ]
  },
  {
   "cell_type": "code",
   "execution_count": 3,
   "id": "e5f0d9ac",
   "metadata": {},
   "outputs": [],
   "source": [
    "sequence_1 = [{\"strings\": [\"hello\"], \"vectors\": [], \"emotives\": {'utility': 10}}, \n",
    "              {\"strings\": [\"world\"], \"vectors\": [], \"emotives\": {}}]\n",
    "\n",
    "sequence_2 = [{\"strings\": [\"goodbye\"], \"vectors\": [], \"emotives\": {'utility': -10}},\n",
    "              {\"strings\": [\"cruel\"], \"vectors\": [], \"emotives\": {'utility': -40}},\n",
    "              {\"strings\": [\"world\"], \"vectors\": [], \"emotives\": {}}]"
   ]
  },
  {
   "cell_type": "markdown",
   "id": "d129b5be",
   "metadata": {},
   "source": [
    "If we decide that the two sequences above are polar opposites in sentiment, and each have their own magnitude in value, we can encode that information as a \"emotives\" value in the GDF. In the above sequences we have named the emotive, \"utility\"."
   ]
  },
  {
   "cell_type": "markdown",
   "id": "6d0119c2",
   "metadata": {},
   "source": [
    "For people, the two sequences provided above have very different emotional context around them.  \"hello world\" may be a happy or neutral sentiment.  \"goodbye cruel world\", however, has a very negative connotation to it."
   ]
  },
  {
   "cell_type": "markdown",
   "id": "c8c300e0",
   "metadata": {},
   "source": [
    "NOTE: the positioning of the emotives values within the sequence is irrelevant.  We could have just as easily put them in the last event of the sequence, or even created a new event just to supply a emotive value:"
   ]
  },
  {
   "cell_type": "code",
   "execution_count": 4,
   "id": "b32ddc11",
   "metadata": {},
   "outputs": [],
   "source": [
    "sequence_1 = [{\"strings\": [\"hello\"], \"vectors\": [], \"emotives\": {}}, \n",
    "              {\"strings\": [\"world\"], \"vectors\": [], \"emotives\": {'utility': 10}}]\n",
    "\n",
    "sequence_2 = [{\"strings\": [\"goodbye\"], \"vectors\": [], \"emotives\": {}},\n",
    "              {\"strings\": [\"cruel\"], \"vectors\": [], \"emotives\": {}},\n",
    "              {\"strings\": [\"world\"], \"vectors\": [], \"emotives\": {'utility': -50}}]\n",
    "\n",
    "# or\n",
    "\n",
    "sequence_1 = [{\"strings\": [\"hello\"], \"vectors\": [], \"emotives\": {}}, \n",
    "              {\"strings\": [\"world\"], \"vectors\": [], \"emotives\": {}},\n",
    "              {\"strings\": [], \"vectors\": [], \"emotives\": {'utility': 10}}]\n",
    "\n",
    "sequence_2 = [{\"strings\": [\"goodbye\"], \"vectors\": [], \"emotives\": {}},\n",
    "              {\"strings\": [\"cruel\"], \"vectors\": [], \"emotives\": {}},\n",
    "              {\"strings\": [\"world\"], \"vectors\": [], \"emotives\": {}},\n",
    "              {\"strings\": [], \"vectors\": [], \"emotives\": {'utility': -50}}]"
   ]
  },
  {
   "cell_type": "code",
   "execution_count": 5,
   "id": "287a7690",
   "metadata": {},
   "outputs": [
    {
     "data": {
      "text/plain": [
       "{'PREDICT': True,\n",
       " 'SLEEPING': False,\n",
       " 'emotives': {},\n",
       " 'last_learned_model_name': '',\n",
       " 'models_kb': '{KB| objects: 0}',\n",
       " 'name': 'P1',\n",
       " 'size_WM': 0,\n",
       " 'target': '',\n",
       " 'time': 0,\n",
       " 'vectors_kb': '{KB| objects: 0}'}"
      ]
     },
     "execution_count": 5,
     "metadata": {},
     "output_type": "execute_result"
    }
   ],
   "source": [
    "agent.show_status(nodes=ingress_nodes)"
   ]
  },
  {
   "cell_type": "code",
   "execution_count": 6,
   "id": "0f0b341b",
   "metadata": {},
   "outputs": [
    {
     "data": {
      "text/plain": [
       "'MODEL|7d0678ba6305341ce0d25133ab086208656a562f'"
      ]
     },
     "execution_count": 6,
     "metadata": {},
     "output_type": "execute_result"
    }
   ],
   "source": [
    "# Learn the 1st sequence\n",
    "for event in sequence_1:\n",
    "    agent.observe(data=event,nodes=ingress_nodes)\n",
    "\n",
    "agent.learn(nodes=ingress_nodes)"
   ]
  },
  {
   "cell_type": "code",
   "execution_count": 7,
   "id": "c873b97e",
   "metadata": {},
   "outputs": [
    {
     "data": {
      "text/plain": [
       "'MODEL|3b5c9cdc4424988308922d2ec8c7bc06b7c6ac21'"
      ]
     },
     "execution_count": 7,
     "metadata": {},
     "output_type": "execute_result"
    }
   ],
   "source": [
    "# Learn the 2nd sequence\n",
    "for event in sequence_2:\n",
    "    agent.observe(data=event,nodes=ingress_nodes)\n",
    "\n",
    "agent.learn(nodes=ingress_nodes)"
   ]
  },
  {
   "cell_type": "code",
   "execution_count": 8,
   "id": "eceedf1d",
   "metadata": {},
   "outputs": [],
   "source": [
    "# Let's observe the single event with \"hello\" in the strings section to get a prediction"
   ]
  },
  {
   "cell_type": "code",
   "execution_count": 9,
   "id": "20378b37",
   "metadata": {},
   "outputs": [
    {
     "data": {
      "text/plain": [
       "'observed'"
      ]
     },
     "execution_count": 9,
     "metadata": {},
     "output_type": "execute_result"
    }
   ],
   "source": [
    "agent.observe({\"strings\": [\"hello\"], \"vectors\": [], \"emotives\": {}})"
   ]
  },
  {
   "cell_type": "code",
   "execution_count": 10,
   "id": "7b8cacad",
   "metadata": {},
   "outputs": [
    {
     "data": {
      "text/plain": [
       "[{'confidence': 1,\n",
       "  'confluence': 0.4,\n",
       "  'emotives': {'utility': 10},\n",
       "  'entropy': 0.464385629,\n",
       "  'evidence': 0.5,\n",
       "  'extras': [],\n",
       "  'fragmentation': 0,\n",
       "  'frequency': 1,\n",
       "  'future': [['world']],\n",
       "  'grand_hamiltonian': 0.232192814,\n",
       "  'hamiltonian': 0,\n",
       "  'itfdf_similarity': 1,\n",
       "  'matches': ['hello'],\n",
       "  'missing': [],\n",
       "  'name': '7d0678ba6305341ce0d25133ab086208656a562f',\n",
       "  'past': [],\n",
       "  'potential': 3.5,\n",
       "  'present': [['hello']],\n",
       "  'similarity': 0.666666687,\n",
       "  'snr': 1,\n",
       "  'type': 'prototypical'}]"
      ]
     },
     "execution_count": 10,
     "metadata": {},
     "output_type": "execute_result"
    }
   ],
   "source": [
    "agent.get_predictions(nodes=query_nodes)"
   ]
  },
  {
   "cell_type": "markdown",
   "id": "99157362",
   "metadata": {},
   "source": [
    "The get_predictions command gave back one sequence as a prediction.\n",
    "This sequence has an emotive with the name of \"utility\" of value 10 in its prediction object."
   ]
  },
  {
   "cell_type": "code",
   "execution_count": 11,
   "id": "3a145120",
   "metadata": {},
   "outputs": [
    {
     "data": {
      "text/plain": [
       "{'utility': 10}"
      ]
     },
     "execution_count": 11,
     "metadata": {},
     "output_type": "execute_result"
    }
   ],
   "source": [
    "agent.get_predictions(nodes=query_nodes)[0]['emotives']"
   ]
  },
  {
   "cell_type": "markdown",
   "id": "3c584b38",
   "metadata": {},
   "source": [
    "NOTE: Emotives allow room for decision making based on emotions. Humans make decisions based on emotions all the time but the outcome depends on their mood. A user can set a mood for each emotive in order to give them weights, which will affect the overall utility. More on this later when we create a recommendation engine based on different emotions."
   ]
  },
  {
   "cell_type": "code",
   "execution_count": null,
   "id": "f7d89b63",
   "metadata": {},
   "outputs": [],
   "source": []
  }
 ],
 "metadata": {
  "kernelspec": {
   "display_name": "Python 3",
   "language": "python",
   "name": "python3"
  },
  "language_info": {
   "codemirror_mode": {
    "name": "ipython",
    "version": 3
   },
   "file_extension": ".py",
   "mimetype": "text/x-python",
   "name": "python",
   "nbconvert_exporter": "python",
   "pygments_lexer": "ipython3",
   "version": "3.8.5"
  }
 },
 "nbformat": 4,
 "nbformat_minor": 5
}
