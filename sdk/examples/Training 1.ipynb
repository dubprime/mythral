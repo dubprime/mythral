{
 "cells": [
  {
   "attachments": {},
   "cell_type": "markdown",
   "id": "c79330fa",
   "metadata": {},
   "source": [
    "# Basic PVT Setup and Example"
   ]
  },
  {
   "cell_type": "raw",
   "id": "c4080915",
   "metadata": {
    "raw_mimetype": "text/restructuredtext"
   },
   "source": [
    " Import :class:`~ia.gaius.manager.AgentManager` from module :py:mod:`ia.gaius.manager`"
   ]
  },
  {
   "cell_type": "code",
   "execution_count": 15,
   "id": "a5063878",
   "metadata": {},
   "outputs": [],
   "source": [
    "from ia.gaius.manager import AgentManager"
   ]
  },
  {
   "cell_type": "code",
   "execution_count": null,
   "id": "f5170111",
   "metadata": {},
   "outputs": [],
   "source": [
    "am = AgentManager()"
   ]
  },
  {
   "cell_type": "code",
   "execution_count": null,
   "id": "b4358862",
   "metadata": {},
   "outputs": [],
   "source": [
    "agent = am.start_agent(genome_name='simple.genome', agent_id='pvt',\n",
    "                       user_id='tutorial', agent_name='tutorial-pvt').get_agent_client()"
   ]
  },
  {
   "cell_type": "code",
   "execution_count": 18,
   "id": "cfafe1bc",
   "metadata": {},
   "outputs": [
    {
     "data": {
      "text/plain": [
       "{'connection': 'okay', 'agent': 'simple'}"
      ]
     },
     "execution_count": 18,
     "metadata": {},
     "output_type": "execute_result"
    }
   ],
   "source": [
    "agent.connect()"
   ]
  },
  {
   "cell_type": "code",
   "execution_count": 19,
   "id": "24716f91",
   "metadata": {},
   "outputs": [
    {
     "data": {
      "text/plain": [
       "{'AUTOLEARN': False,\n",
       " 'PREDICT': True,\n",
       " 'SLEEPING': False,\n",
       " 'emotives': {},\n",
       " 'last_learned_model_name': '',\n",
       " 'models_kb': '{KB| objects: 0}',\n",
       " 'name': 'P1',\n",
       " 'num_observe_call': 0,\n",
       " 'size_WM': 0,\n",
       " 'target': '',\n",
       " 'time': 0,\n",
       " 'vectors_kb': '{KB| objects: 0}'}"
      ]
     },
     "execution_count": 19,
     "metadata": {},
     "output_type": "execute_result"
    }
   ],
   "source": [
    "agent.show_status()"
   ]
  },
  {
   "cell_type": "code",
   "execution_count": 20,
   "id": "d4be3778",
   "metadata": {},
   "outputs": [
    {
     "data": {
      "text/plain": [
       "{'genes': {'SORT': 'sorting',\n",
       "  'always_update_frequencies': False,\n",
       "  'auto_learn_algorithm': 'basic',\n",
       "  'auto_learn_metric': 'wm_size',\n",
       "  'classifier': 'CVC',\n",
       "  'max_predictions': 100,\n",
       "  'max_sequence_length': 0,\n",
       "  'near_vector_count': 3,\n",
       "  'persistence': 5,\n",
       "  'predict_on_nth_event': 1,\n",
       "  'prediction_sort_metric': 'potential',\n",
       "  'prediction_threshold': 0,\n",
       "  'prediction_threshold_direction': 'greater than',\n",
       "  'prediction_threshold_metric': 'potential',\n",
       "  'quiescence': 3,\n",
       "  'recall_threshold': 0.1,\n",
       "  'search_depth': 10,\n",
       "  'smoothness': 3,\n",
       "  'wm_resolution': 'symbol'}}"
      ]
     },
     "execution_count": 20,
     "metadata": {},
     "output_type": "execute_result"
    }
   ],
   "source": [
    "agent.get_all_genes(nodes=['P1'])"
   ]
  },
  {
   "attachments": {},
   "cell_type": "markdown",
   "id": "aa136e7e",
   "metadata": {},
   "source": [
    "## Iris Dataset Training"
   ]
  },
  {
   "cell_type": "raw",
   "id": "57088ff8",
   "metadata": {
    "raw_mimetype": "text/restructuredtext"
   },
   "source": [
    "Train and test on `iris-flowers <https://www.kaggle.com/datasets/arshid/iris-flower-dataset>`_ dataset using the :class:`~ia.gaius.pvt.PerformanceValidationTest` class from :py:mod:`ia.gaius.pvt`. This dataset is stored locally in GDF format."
   ]
  },
  {
   "cell_type": "code",
   "execution_count": 21,
   "id": "1e3bf9bd",
   "metadata": {},
   "outputs": [],
   "source": [
    "from ia.gaius.pvt import PerformanceValidationTest"
   ]
  },
  {
   "cell_type": "raw",
   "id": "d63d410e",
   "metadata": {
    "raw_mimetype": "text/restructuredtext"
   },
   "source": [
    "Configure the test to:\n",
    "    * Conduct a classification test\n",
    "    * Train using an 80/20 training/testing data split\n",
    "    * Use 100% of the dataset (150 records)\n",
    "    * learn after guessing during training phase (test_prediction_strategy = `continuous`)\n",
    "    * Clear All Memory on agent before conducting PVT\n",
    "    * Shuffle the data so it is in random order"
   ]
  },
  {
   "cell_type": "code",
   "execution_count": 22,
   "id": "7236efd3",
   "metadata": {},
   "outputs": [
    {
     "name": "stdout",
     "output_type": "stream",
     "text": [
      "num_of_tests      = 1\n",
      "ds_filepath       = ../../../tests/datasets/shuffled_iris_flowers\n",
      "pct_of_ds         = 100\n",
      "pct_res_4_train   = 80\n",
      "summarize_for_single_node status   = False\n"
     ]
    }
   ],
   "source": [
    "pvt = PerformanceValidationTest(agent=agent, ingress_nodes=['P1'], query_nodes=['P1'], num_of_tests=1, pct_of_ds=100, pct_res_4_train=80,\n",
    "                                test_type='classification', dataset_location='filepath', results_filepath=None,\n",
    "                                ds_filepath='../../../tests/datasets/shuffled_iris_flowers', test_prediction_strategy='noncontinuous',\n",
    "                                clear_all_memory_before_training=True, turn_prediction_off_during_training=False, shuffle=False)"
   ]
  },
  {
   "cell_type": "code",
   "execution_count": 23,
   "id": "4b7fca93",
   "metadata": {},
   "outputs": [
    {
     "name": "stdout",
     "output_type": "stream",
     "text": [
      "Conducting Classification PVT...\n",
      "\n",
      "Conducting Test # 0\n",
      "\n",
      "---------------------\n",
      "Length of Training Set = 120\n",
      "Length of Testing Set  = 30\n",
      "Clearing memory of selected ingress nodes...\n",
      "Preparing to train agent...\n"
     ]
    },
    {
     "data": {
      "application/vnd.jupyter.widget-view+json": {
       "model_id": "7570e68d48234ab6af98521a9ae2d79d",
       "version_major": 2,
       "version_minor": 0
      },
      "text/plain": [
       "  0%|           0/120 [? ?it/s]"
      ]
     },
     "metadata": {},
     "output_type": "display_data"
    },
    {
     "name": "stdout",
     "output_type": "stream",
     "text": [
      "Finished training agent!\n"
     ]
    },
    {
     "data": {
      "application/vnd.jupyter.widget-view+json": {
       "model_id": "4575a1504b244c6196e934675589af7c",
       "version_major": 2,
       "version_minor": 0
      },
      "text/plain": [
       "  0%|           0/30 [? ?it/s]"
      ]
     },
     "metadata": {},
     "output_type": "display_data"
    },
    {
     "name": "stdout",
     "output_type": "stream",
     "text": [
      "Getting Classification Metrics...\n",
      "Plotting Results...\n"
     ]
    },
    {
     "data": {
      "image/png": "[encoded data removed]",
      "text/plain": [
       "<Figure size 432x288 with 2 Axes>"
      ]
     },
     "metadata": {
      "needs_background": "light"
     },
     "output_type": "display_data"
    },
    {
     "data": {
      "image/png": "[encoded data removed]",
      "text/plain": [
       "<Figure size 432x288 with 2 Axes>"
      ]
     },
     "metadata": {
      "needs_background": "light"
     },
     "output_type": "display_data"
    }
   ],
   "source": [
    "pvt.conduct_pvt()"
   ]
  },
  {
   "cell_type": "code",
   "execution_count": 24,
   "id": "6084f06d",
   "metadata": {},
   "outputs": [
    {
     "data": {
      "text/plain": [
       "{'response_counts': 30.0,\n",
       " 'true_positive': 28.0,\n",
       " 'false_positive': 2.0,\n",
       " 'false_discovery_rate': 0.06666666666666667,\n",
       " 'f1': 0.9655172413793104,\n",
       " 'precision': 93.33333333333333,\n",
       " 'accuracy': 93.33333333333333,\n",
       " 'response_percentage': 100.0,\n",
       " 'unknown_percentage': 0.0}"
      ]
     },
     "execution_count": 24,
     "metadata": {},
     "output_type": "execute_result"
    }
   ],
   "source": [
    "pvt.pvt_results[0]['P1']['metrics']"
   ]
  },
  {
   "cell_type": "code",
   "execution_count": null,
   "id": "4f3f6115",
   "metadata": {},
   "outputs": [],
   "source": [
    "am.delete_agent('tutorial-pvt')"
   ]
  }
 ],
 "metadata": {
  "celltoolbar": "Raw Cell Format",
  "kernelspec": {
   "display_name": "Python 3",
   "language": "python",
   "name": "python3"
  },
  "language_info": {
   "codemirror_mode": {
    "name": "ipython",
    "version": 3
   },
   "file_extension": ".py",
   "mimetype": "text/x-python",
   "name": "python",
   "nbconvert_exporter": "python",
   "pygments_lexer": "ipython3",
   "version": "3.8.10"
  }
 },
 "nbformat": 4,
 "nbformat_minor": 5
}
