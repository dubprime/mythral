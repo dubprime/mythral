{
 "cells": [
  {
   "attachments": {},
   "cell_type": "markdown",
   "id": "c79330fa",
   "metadata": {},
   "source": [
    "# Basic PVT Setup and Example"
   ]
  },
  {
   "cell_type": "raw",
   "id": "c4080915",
   "metadata": {
    "raw_mimetype": "text/restructuredtext"
   },
   "source": [
    " Import :class:`~ia.gaius.manager.AgentManager` from module :py:mod:`ia.gaius.manager`"
   ]
  },
  {
   "cell_type": "code",
   "execution_count": 1,
   "id": "a5063878",
   "metadata": {},
   "outputs": [
    {
     "name": "stderr",
     "output_type": "stream",
     "text": [
      "/usr/lib/python3/dist-packages/paramiko/transport.py:219: CryptographyDeprecationWarning: Blowfish has been deprecated\n",
      "  \"class\": algorithms.Blowfish,\n"
     ]
    }
   ],
   "source": [
    "import time\n",
    "from ia.gaius.manager import AgentManager\n",
    "from ia.gaius.pvt import PerformanceValidationTest"
   ]
  },
  {
   "cell_type": "code",
   "execution_count": 2,
   "id": "3a540e1f",
   "metadata": {},
   "outputs": [
    {
     "data": {
      "text/plain": [
       "'0.4.0'"
      ]
     },
     "execution_count": 2,
     "metadata": {},
     "output_type": "execute_result"
    }
   ],
   "source": [
    "import ia\n",
    "ia.__version__"
   ]
  },
  {
   "cell_type": "code",
   "execution_count": 3,
   "id": "f5170111",
   "metadata": {},
   "outputs": [],
   "source": [
    "am = AgentManager()"
   ]
  },
  {
   "cell_type": "code",
   "execution_count": 4,
   "id": "b4358862",
   "metadata": {},
   "outputs": [],
   "source": [
    "agent = am.start_agent(genome_name='simple.genome',\n",
    "                       agent_id='pvt',\n",
    "                       user_id='tutorial',\n",
    "                       agent_name='tutorial-pvt').get_agent_client()"
   ]
  },
  {
   "cell_type": "code",
   "execution_count": 5,
   "id": "cfafe1bc",
   "metadata": {},
   "outputs": [
    {
     "data": {
      "text/plain": [
       "{'connection': 'okay', 'agent': 'simple'}"
      ]
     },
     "execution_count": 5,
     "metadata": {},
     "output_type": "execute_result"
    }
   ],
   "source": [
    "time.sleep(0.5)\n",
    "agent.connect()"
   ]
  },
  {
   "cell_type": "code",
   "execution_count": 6,
   "id": "24716f91",
   "metadata": {},
   "outputs": [
    {
     "data": {
      "text/plain": [
       "{'AUTOLEARN': False,\n",
       " 'PREDICT': True,\n",
       " 'SLEEPING': False,\n",
       " 'SNAPSHOT': False,\n",
       " 'emotives': {},\n",
       " 'last_learned_model_name': '',\n",
       " 'models_kb': '{KB| objects: 0}',\n",
       " 'name': 'P1',\n",
       " 'num_observe_call': 0,\n",
       " 'size_WM': 0,\n",
       " 'target': '',\n",
       " 'time': 0,\n",
       " 'vector_dimensionality': -1,\n",
       " 'vectors_kb': '{KB| objects: 0}'}"
      ]
     },
     "execution_count": 6,
     "metadata": {},
     "output_type": "execute_result"
    }
   ],
   "source": [
    "agent.show_status()"
   ]
  },
  {
   "cell_type": "code",
   "execution_count": 7,
   "id": "d4be3778",
   "metadata": {},
   "outputs": [
    {
     "data": {
      "text/plain": [
       "{'genes': {'SORT': 'sorting',\n",
       "  'always_update_frequencies': False,\n",
       "  'auto_learn_algorithm': 'basic',\n",
       "  'auto_learn_metric': 'wm_size',\n",
       "  'classifier': 'CVC',\n",
       "  'enable_genome_snapshots': 'genome snapshots enabled',\n",
       "  'enable_snapshots': 'WM snapshots disabled',\n",
       "  'max_predictions': 100,\n",
       "  'max_sequence_length': 0,\n",
       "  'near_vector_count': 3,\n",
       "  'persistence': 5,\n",
       "  'predict_on_nth_event': 1,\n",
       "  'prediction_sort_metric': 'potential',\n",
       "  'prediction_threshold': 0,\n",
       "  'prediction_threshold_direction': 'greater than',\n",
       "  'prediction_threshold_metric': 'potential',\n",
       "  'quiescence': 3,\n",
       "  'recall_threshold': 0.1,\n",
       "  'search_depth': 10,\n",
       "  'smoothness': 3,\n",
       "  'snapshot_gen_predictions': 'prediction generation on snapshot load disabled',\n",
       "  'snapshot_sync_keys': '[]',\n",
       "  'wm_resolution': 'symbol'}}"
      ]
     },
     "execution_count": 7,
     "metadata": {},
     "output_type": "execute_result"
    }
   ],
   "source": [
    "agent.get_all_genes(nodes=['P1'])"
   ]
  },
  {
   "attachments": {},
   "cell_type": "markdown",
   "id": "aa136e7e",
   "metadata": {},
   "source": [
    "## Iris Dataset Training"
   ]
  },
  {
   "cell_type": "raw",
   "id": "57088ff8",
   "metadata": {
    "raw_mimetype": "text/restructuredtext"
   },
   "source": [
    "Train and test on `iris-flowers <https://www.kaggle.com/datasets/arshid/iris-flower-dataset>`_ dataset using the :class:`~ia.gaius.pvt.PerformanceValidationTest` class from :py:mod:`ia.gaius.pvt`. This dataset is stored locally in GDF format."
   ]
  },
  {
   "cell_type": "raw",
   "id": "d63d410e",
   "metadata": {
    "raw_mimetype": "text/restructuredtext"
   },
   "source": [
    "Configure the test to:\n",
    "    * Conduct a classification test\n",
    "    * Train using an 80/20 training/testing data split\n",
    "    * Use 100% of the dataset (150 records)\n",
    "    * learn after guessing during training phase (test_prediction_strategy = `continuous`)\n",
    "    * Clear All Memory on agent before conducting PVT\n",
    "    * Shuffle the data so it is in random order"
   ]
  },
  {
   "cell_type": "code",
   "execution_count": 8,
   "id": "7236efd3",
   "metadata": {},
   "outputs": [],
   "source": [
    "pvt = PerformanceValidationTest(agent=agent,\n",
    "                                ingress_nodes=['P1'],\n",
    "                                query_nodes=['P1'],\n",
    "                                test_count=1,\n",
    "                                dataset_percentage=100,\n",
    "                                training_percentage=80,\n",
    "                                test_type='classification',\n",
    "                                dataset='../../../tests/datasets/shuffled_iris_flowers',\n",
    "                                test_prediction_strategy='noncontinuous',\n",
    "                                clear_all_memory_before_training=True,\n",
    "                                turn_prediction_off_during_training=False,\n",
    "                                shuffle=True,\n",
    "                                PLOT=True)"
   ]
  },
  {
   "cell_type": "code",
   "execution_count": 9,
   "id": "4b7fca93",
   "metadata": {},
   "outputs": [
    {
     "data": {
      "application/vnd.jupyter.widget-view+json": {
       "model_id": "211966442aa84b419523059539a9a225",
       "version_major": 2,
       "version_minor": 0
      },
      "text/plain": [
       "  0%|           0/120 [? ? records/s]"
      ]
     },
     "metadata": {},
     "output_type": "display_data"
    },
    {
     "data": {
      "application/vnd.jupyter.widget-view+json": {
       "model_id": "0b763b1a3f5040dfbc7ee93f4233ab60",
       "version_major": 2,
       "version_minor": 0
      },
      "text/plain": [
       "  0%|           0/30 [? ? records/s]"
      ]
     },
     "metadata": {},
     "output_type": "display_data"
    },
    {
     "data": {
      "image/png": "[encoded data removed]",
      "text/plain": [
       "<Figure size 432x288 with 2 Axes>"
      ]
     },
     "metadata": {
      "needs_background": "light"
     },
     "output_type": "display_data"
    },
    {
     "data": {
      "image/png": "[encoded data removed]",
      "text/plain": [
       "<Figure size 432x288 with 2 Axes>"
      ]
     },
     "metadata": {
      "needs_background": "light"
     },
     "output_type": "display_data"
    }
   ],
   "source": [
    "pvt.conduct_pvt()"
   ]
  },
  {
   "cell_type": "code",
   "execution_count": 10,
   "id": "6084f06d",
   "metadata": {},
   "outputs": [
    {
     "data": {
      "text/plain": [
       "{'training_counter': {'virginica': 46, 'setosa': 37, 'versicolor': 37},\n",
       " 'testing_counter': {'versicolor': 13, 'setosa': 13, 'virginica': 4},\n",
       " 'counter': {'virginica': 50, 'setosa': 50, 'versicolor': 50},\n",
       " 'predicted_class_statistics': {'versicolor': 13,\n",
       "  'setosa': 13,\n",
       "  'virginica': 4},\n",
       " 'response_counts': 30.0,\n",
       " 'true_positive': 28.0,\n",
       " 'false_positive': 2.0,\n",
       " 'precision': 93.33333333333333,\n",
       " 'f1': 0.9655172413793104,\n",
       " 'accuracy': 93.33333333333333,\n",
       " 'response_percentage': 100.0,\n",
       " 'unknown_percentage': 0.0,\n",
       " 'true_negative': 0.0,\n",
       " 'false_negative': 0.0,\n",
       " 'FPR': 100.0,\n",
       " 'FDR': 6.666666666666667,\n",
       " 'TNR': 0.0,\n",
       " 'TPR': 100.0,\n",
       " 'NPV': 0.0,\n",
       " 'FNR': 0.0,\n",
       " 'FOR': 0.0,\n",
       " 'LR+': 1.0,\n",
       " 'LR-': 0.0,\n",
       " 'PT': 0.5,\n",
       " 'TS': 93.33333333333333}"
      ]
     },
     "execution_count": 10,
     "metadata": {},
     "output_type": "execute_result"
    }
   ],
   "source": [
    "pvt.pvt_results[0]['P1']['metrics']"
   ]
  },
  {
   "cell_type": "code",
   "execution_count": 11,
   "id": "4f3f6115",
   "metadata": {},
   "outputs": [
    {
     "data": {
      "text/plain": [
       "'deleted /home/alexlukens/.local/share/IA_SDK_AgentManager/agents/tutorial-pvt'"
      ]
     },
     "execution_count": 11,
     "metadata": {},
     "output_type": "execute_result"
    }
   ],
   "source": [
    "am.delete_agent('tutorial-pvt')"
   ]
  }
 ],
 "metadata": {
  "celltoolbar": "Raw Cell Format",
  "kernelspec": {
   "display_name": "Python 3",
   "language": "python",
   "name": "python3"
  },
  "language_info": {
   "codemirror_mode": {
    "name": "ipython",
    "version": 3
   },
   "file_extension": ".py",
   "mimetype": "text/x-python",
   "name": "python",
   "nbconvert_exporter": "python",
   "pygments_lexer": "ipython3",
   "version": "3.8.10"
  }
 },
 "nbformat": 4,
 "nbformat_minor": 5
}
